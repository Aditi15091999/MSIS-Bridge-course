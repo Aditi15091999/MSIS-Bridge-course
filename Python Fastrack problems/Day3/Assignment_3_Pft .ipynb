{
  "nbformat": 4,
  "nbformat_minor": 0,
  "metadata": {
    "colab": {
      "name": "Assignment 3 Pft",
      "provenance": []
    },
    "kernelspec": {
      "name": "python3",
      "display_name": "Python 3"
    },
    "language_info": {
      "name": "python"
    }
  },
  "cells": [
    {
      "cell_type": "markdown",
      "metadata": {
        "id": "IJDHvn5VHKfj"
      },
      "source": [
        "**STRING**"
      ]
    },
    {
      "cell_type": "code",
      "metadata": {
        "colab": {
          "base_uri": "https://localhost:8080/"
        },
        "id": "acjIZ_kA3D1-",
        "outputId": "c50dba1c-842f-4d99-d8a1-a0e679c7c470"
      },
      "source": [
        "dir(str)"
      ],
      "execution_count": null,
      "outputs": [
        {
          "output_type": "execute_result",
          "data": {
            "text/plain": [
              "['__add__',\n",
              " '__class__',\n",
              " '__contains__',\n",
              " '__delattr__',\n",
              " '__dir__',\n",
              " '__doc__',\n",
              " '__eq__',\n",
              " '__format__',\n",
              " '__ge__',\n",
              " '__getattribute__',\n",
              " '__getitem__',\n",
              " '__getnewargs__',\n",
              " '__gt__',\n",
              " '__hash__',\n",
              " '__init__',\n",
              " '__init_subclass__',\n",
              " '__iter__',\n",
              " '__le__',\n",
              " '__len__',\n",
              " '__lt__',\n",
              " '__mod__',\n",
              " '__mul__',\n",
              " '__ne__',\n",
              " '__new__',\n",
              " '__reduce__',\n",
              " '__reduce_ex__',\n",
              " '__repr__',\n",
              " '__rmod__',\n",
              " '__rmul__',\n",
              " '__setattr__',\n",
              " '__sizeof__',\n",
              " '__str__',\n",
              " '__subclasshook__',\n",
              " 'capitalize',\n",
              " 'casefold',\n",
              " 'center',\n",
              " 'count',\n",
              " 'encode',\n",
              " 'endswith',\n",
              " 'expandtabs',\n",
              " 'find',\n",
              " 'format',\n",
              " 'format_map',\n",
              " 'index',\n",
              " 'isalnum',\n",
              " 'isalpha',\n",
              " 'isascii',\n",
              " 'isdecimal',\n",
              " 'isdigit',\n",
              " 'isidentifier',\n",
              " 'islower',\n",
              " 'isnumeric',\n",
              " 'isprintable',\n",
              " 'isspace',\n",
              " 'istitle',\n",
              " 'isupper',\n",
              " 'join',\n",
              " 'ljust',\n",
              " 'lower',\n",
              " 'lstrip',\n",
              " 'maketrans',\n",
              " 'partition',\n",
              " 'replace',\n",
              " 'rfind',\n",
              " 'rindex',\n",
              " 'rjust',\n",
              " 'rpartition',\n",
              " 'rsplit',\n",
              " 'rstrip',\n",
              " 'split',\n",
              " 'splitlines',\n",
              " 'startswith',\n",
              " 'strip',\n",
              " 'swapcase',\n",
              " 'title',\n",
              " 'translate',\n",
              " 'upper',\n",
              " 'zfill']"
            ]
          },
          "metadata": {},
          "execution_count": 2
        }
      ]
    },
    {
      "cell_type": "code",
      "metadata": {
        "colab": {
          "base_uri": "https://localhost:8080/"
        },
        "id": "QrP63Ekf3vSV",
        "outputId": "ebecd8aa-d90f-4e79-f906-4a072ed97175"
      },
      "source": [
        "#isprintable()\n",
        "txt=\"Hi Nice to meet you!\"\n",
        "x=txt.isprintable()#true if characters are printable\n",
        "print(x)\n",
        "\n",
        "#zfill()\n",
        "y=txt.zfill(25)#adds 0's at the beginning of the string until reaches specified length\n",
        "print(y)\n",
        "\n",
        "#rsplit()\n",
        "text=\"apple, banana, cherry, lemon\"\n",
        "z = text.rsplit(\", \")#splits string into list starting from right\n",
        "print(z)\n",
        "\n",
        "#partition()\n",
        "sentence=\"I can eat icecreams all day\"\n",
        "a=sentence.partition(\"icecreams\")#splits string into tuple\n",
        "print(a)\n",
        "\n",
        "#isspace()\n",
        "b=txt.isspace()#true if chracter strings are whitespaces\n",
        "print(b)\n",
        "\n",
        "#ljust()\n",
        "t=\"Pizza!\"\n",
        "c=t.ljust(20)#left align the string\n",
        "print(c, \"It is yummy.\")\n",
        "\n",
        "#maketrans\n",
        "tt = \"Hello Dear!\"\n",
        "mytable = tt.maketrans(\"a\", \"e\")#returns mapping table\n",
        "print(mytable)\n",
        "print(tt.translate(mytable))#replace specified characters\n",
        "\n",
        "#splitlines\n",
        "line = \"Thank you for the movie\\nWelcome to the group\\nNice to have you in!\"\n",
        "d = line.splitlines()#splits a string into list\n",
        "print(d)\n",
        "\n",
        "#isidentifier\n",
        "name=\"Alec_09\"\n",
        "e=name.isidentifier()\n",
        "print(e) #true if string is valid identifier\n",
        "\n",
        "#expandtabs\n",
        "word=\"H\\te\\tl\\tl\\to\\tW\\to\\tr\\tl\\td!\"\n",
        "f=word.expandtabs(5)#sets tab size to specified number of whitespaces\n",
        "print(f)"
      ],
      "execution_count": null,
      "outputs": [
        {
          "output_type": "stream",
          "name": "stdout",
          "text": [
            "True\n",
            "00000Hi Nice to meet you!\n",
            "['apple', 'banana', 'cherry', 'lemon']\n",
            "('I can eat ', 'icecreams', ' all day')\n",
            "False\n",
            "Pizza!               It is yummy.\n",
            "{97: 101}\n",
            "Hello Deer!\n",
            "['Thank you for the movie', 'Welcome to the group', 'Nice to have you in!']\n",
            "True\n",
            "H    e    l    l    o    W    o    r    l    d!\n"
          ]
        }
      ]
    },
    {
      "cell_type": "markdown",
      "metadata": {
        "id": "pniuAL0UHDuT"
      },
      "source": [
        "**LIST**"
      ]
    },
    {
      "cell_type": "code",
      "metadata": {
        "colab": {
          "base_uri": "https://localhost:8080/"
        },
        "id": "9HYw-wbH4AD0",
        "outputId": "a4940f57-7d48-4187-d5aa-9cb0904f896e"
      },
      "source": [
        "dir(list)"
      ],
      "execution_count": null,
      "outputs": [
        {
          "output_type": "execute_result",
          "data": {
            "text/plain": [
              "['__add__',\n",
              " '__class__',\n",
              " '__contains__',\n",
              " '__delattr__',\n",
              " '__delitem__',\n",
              " '__dir__',\n",
              " '__doc__',\n",
              " '__eq__',\n",
              " '__format__',\n",
              " '__ge__',\n",
              " '__getattribute__',\n",
              " '__getitem__',\n",
              " '__gt__',\n",
              " '__hash__',\n",
              " '__iadd__',\n",
              " '__imul__',\n",
              " '__init__',\n",
              " '__init_subclass__',\n",
              " '__iter__',\n",
              " '__le__',\n",
              " '__len__',\n",
              " '__lt__',\n",
              " '__mul__',\n",
              " '__ne__',\n",
              " '__new__',\n",
              " '__reduce__',\n",
              " '__reduce_ex__',\n",
              " '__repr__',\n",
              " '__reversed__',\n",
              " '__rmul__',\n",
              " '__setattr__',\n",
              " '__setitem__',\n",
              " '__sizeof__',\n",
              " '__str__',\n",
              " '__subclasshook__',\n",
              " 'append',\n",
              " 'clear',\n",
              " 'copy',\n",
              " 'count',\n",
              " 'extend',\n",
              " 'index',\n",
              " 'insert',\n",
              " 'pop',\n",
              " 'remove',\n",
              " 'reverse',\n",
              " 'sort']"
            ]
          },
          "metadata": {},
          "execution_count": 22
        }
      ]
    },
    {
      "cell_type": "code",
      "metadata": {
        "colab": {
          "base_uri": "https://localhost:8080/"
        },
        "id": "grPxE5zJChZt",
        "outputId": "78777ae3-25c1-4064-bc92-1205583bdea1"
      },
      "source": [
        "#reverse\n",
        "fruits=[\"apple\",\"banana\",\"guvava\"]\n",
        "print(fruits)\n",
        "fruits.reverse()#reverses the sorting order of elements\n",
        "print(fruits)\n",
        "\n",
        "#len\n",
        "print(len(fruits)) #returns the no of elements in the list\n",
        "\n",
        "#clear\n",
        "fruits.clear()#removes all elements from the list\n",
        "print(fruits)\n",
        "\n",
        "#insert\n",
        "fruits.insert(1,\"orange\")#inserts elements in specified location\n",
        "print(fruits)\n",
        "\n",
        "#append\n",
        "fruits.append(\"pomegranate\")#addds elements to the end of the list\n",
        "print(fruits)\n",
        "\n",
        "#extend\n",
        "fruits.extend([\"chikoo\",\"grapes\",\"avacado\"]) #adds elements to the end of the list\n",
        "print(fruits)\n",
        "\n",
        "#del\n",
        "del fruits[1] #removes element at the specified index\n",
        "print(fruits)\n",
        "\n",
        "#sort\n",
        "fruits.sort()#sorts ascending by default\n",
        "print(fruits)\n",
        "fruits.sort(reverse=True)#sorts in descending order\n",
        "print(fruits)\n",
        "\n",
        "#index\n",
        "g= fruits.index(\"avacado\")#position at the first occurence of the specified value\n",
        "print(g)\n",
        "\n",
        "#count\n",
        "l1=[12,45,78,45,89,98,898,0]\n",
        "h=l1.count(45)\n",
        "print(h)#returns the number of times the value is present in the list"
      ],
      "execution_count": null,
      "outputs": [
        {
          "output_type": "stream",
          "name": "stdout",
          "text": [
            "['apple', 'banana', 'guvava']\n",
            "['guvava', 'banana', 'apple']\n",
            "3\n",
            "[]\n",
            "['orange']\n",
            "['orange', 'pomegranate']\n",
            "['orange', 'pomegranate', 'chikoo', 'grapes', 'avacado']\n",
            "['orange', 'chikoo', 'grapes', 'avacado']\n",
            "['avacado', 'chikoo', 'grapes', 'orange']\n",
            "['orange', 'grapes', 'chikoo', 'avacado']\n",
            "3\n",
            "2\n"
          ]
        }
      ]
    },
    {
      "cell_type": "markdown",
      "metadata": {
        "id": "JkV_R8qYILjk"
      },
      "source": [
        "**TUPLES**"
      ]
    },
    {
      "cell_type": "code",
      "metadata": {
        "colab": {
          "base_uri": "https://localhost:8080/"
        },
        "id": "PBaYnch2IOPC",
        "outputId": "9c8a17ea-e7b9-4498-f44f-82dca16e53ef"
      },
      "source": [
        "dir(tuple)"
      ],
      "execution_count": null,
      "outputs": [
        {
          "output_type": "execute_result",
          "data": {
            "text/plain": [
              "['__add__',\n",
              " '__class__',\n",
              " '__contains__',\n",
              " '__delattr__',\n",
              " '__dir__',\n",
              " '__doc__',\n",
              " '__eq__',\n",
              " '__format__',\n",
              " '__ge__',\n",
              " '__getattribute__',\n",
              " '__getitem__',\n",
              " '__getnewargs__',\n",
              " '__gt__',\n",
              " '__hash__',\n",
              " '__init__',\n",
              " '__init_subclass__',\n",
              " '__iter__',\n",
              " '__le__',\n",
              " '__len__',\n",
              " '__lt__',\n",
              " '__mul__',\n",
              " '__ne__',\n",
              " '__new__',\n",
              " '__reduce__',\n",
              " '__reduce_ex__',\n",
              " '__repr__',\n",
              " '__rmul__',\n",
              " '__setattr__',\n",
              " '__sizeof__',\n",
              " '__str__',\n",
              " '__subclasshook__',\n",
              " 'count',\n",
              " 'index']"
            ]
          },
          "metadata": {},
          "execution_count": 38
        }
      ]
    },
    {
      "cell_type": "code",
      "metadata": {
        "colab": {
          "base_uri": "https://localhost:8080/"
        },
        "id": "ju9F8BChIb0G",
        "outputId": "3e0ff411-6c31-4a1a-979d-e7725cb160ed"
      },
      "source": [
        "#count\n",
        "my_tuple=(1,2,3,\"mountain\",\"beach\",\"lake\")\n",
        "print(my_tuple)\n",
        "print(my_tuple.count(\"lake\"))#returns the count of elements\n",
        "\n",
        "#index\n",
        "i=my_tuple.index(3)#returns the index\n",
        "print(i)\n",
        "\n",
        "#len\n",
        "print(len(my_tuple))#returns the length\n",
        "\n",
        "#copy\n",
        "import copy\n",
        "my_tup=copy.copy(my_tuple)#returns the copied tuple\n",
        "print(my_tup)\n",
        "\n",
        "#add two tuples\n",
        "tup=(12,)\n",
        "tup3=tup+my_tup\n",
        "print(tup3)\n",
        "\n",
        "#multiply\n",
        "tup4=tup*5\n",
        "print(tup4)\n"
      ],
      "execution_count": null,
      "outputs": [
        {
          "output_type": "stream",
          "name": "stdout",
          "text": [
            "(1, 2, 3, 'mountain', 'beach', 'lake')\n",
            "1\n",
            "2\n",
            "6\n",
            "(1, 2, 3, 'mountain', 'beach', 'lake')\n",
            "(12, 1, 2, 3, 'mountain', 'beach', 'lake')\n",
            "(12, 12, 12, 12, 12)\n"
          ]
        }
      ]
    },
    {
      "cell_type": "markdown",
      "metadata": {
        "id": "i7roKBY-Lqdb"
      },
      "source": [
        "**DICTIONARY**"
      ]
    },
    {
      "cell_type": "code",
      "metadata": {
        "colab": {
          "base_uri": "https://localhost:8080/"
        },
        "id": "0NcZQB7xLw0i",
        "outputId": "b69239c2-4610-4732-b524-9a0176423756"
      },
      "source": [
        "dir(dict)"
      ],
      "execution_count": null,
      "outputs": [
        {
          "output_type": "execute_result",
          "data": {
            "text/plain": [
              "['__class__',\n",
              " '__contains__',\n",
              " '__delattr__',\n",
              " '__delitem__',\n",
              " '__dir__',\n",
              " '__doc__',\n",
              " '__eq__',\n",
              " '__format__',\n",
              " '__ge__',\n",
              " '__getattribute__',\n",
              " '__getitem__',\n",
              " '__gt__',\n",
              " '__hash__',\n",
              " '__init__',\n",
              " '__init_subclass__',\n",
              " '__iter__',\n",
              " '__le__',\n",
              " '__len__',\n",
              " '__lt__',\n",
              " '__ne__',\n",
              " '__new__',\n",
              " '__reduce__',\n",
              " '__reduce_ex__',\n",
              " '__repr__',\n",
              " '__setattr__',\n",
              " '__setitem__',\n",
              " '__sizeof__',\n",
              " '__str__',\n",
              " '__subclasshook__',\n",
              " 'clear',\n",
              " 'copy',\n",
              " 'fromkeys',\n",
              " 'get',\n",
              " 'items',\n",
              " 'keys',\n",
              " 'pop',\n",
              " 'popitem',\n",
              " 'setdefault',\n",
              " 'update',\n",
              " 'values']"
            ]
          },
          "metadata": {},
          "execution_count": 53
        }
      ]
    },
    {
      "cell_type": "code",
      "metadata": {
        "colab": {
          "base_uri": "https://localhost:8080/"
        },
        "id": "Bt128FP7MRUs",
        "outputId": "89f4fd76-8f80-4137-91d7-75f9d370b726"
      },
      "source": [
        "#clear\n",
        "car = {\n",
        "  \"brand\": \"Ford\",\n",
        "  \"model\": \"Mustang\",\n",
        "  \"year\": 1964\n",
        "}\n",
        "car.clear()#removes all values from dictionary\n",
        "print(car)\n",
        "\n",
        "#fromkeys\n",
        "x = ('name', 'age', 'place')\n",
        "y = ('aditi',22,'kemthur')\n",
        "thisdict = dict.fromkeys(x, y)# returns a dictionary with the specified keys and the specified value.\n",
        "print(thisdict)\n",
        "\n",
        "#get()\n",
        "stud = {\n",
        "  \"name\": \"aditi\",\n",
        "  \"age\":   22,\n",
        "  \"dob\":  1999\n",
        "}\n",
        "x = stud.get(\"name\")#returns the value of the item with the specified key.\n",
        "print(x)\n",
        "\n",
        "#items()\n",
        "j = stud.items()#returns the key-value pair in the dictionary\n",
        "print(j)\n",
        "\n",
        "#keys()\n",
        "k=stud.keys()#returns all keys in the dictionary\n",
        "print(k)\n",
        "\n",
        "#update\n",
        "stud.update({\"name\": \"Aditi\"})#updates the specified value\n",
        "print(stud)\n",
        "\n",
        "#setdefault\n",
        "l= stud.setdefault(\"batch\", 2021)#returns the value of the item with the specified key.\n",
        "print(l)\n",
        "print(stud)\n",
        "\n",
        "#popitem\n",
        "stud.popitem()#removes the item that was last inserted into the dictionary.\n",
        "print(stud)\n",
        "\n",
        "#copy()\n",
        "import copy\n",
        "m=stud.copy()\n",
        "print(m)\n"
      ],
      "execution_count": null,
      "outputs": [
        {
          "output_type": "stream",
          "name": "stdout",
          "text": [
            "{}\n",
            "{'name': ('aditi', 22, 'kemthur'), 'age': ('aditi', 22, 'kemthur'), 'place': ('aditi', 22, 'kemthur')}\n",
            "aditi\n",
            "dict_items([('name', 'aditi'), ('age', 22), ('dob', 1999)])\n",
            "dict_keys(['name', 'age', 'dob'])\n",
            "{'name': 'Aditi', 'age': 22, 'dob': 1999}\n",
            "2021\n",
            "{'name': 'Aditi', 'age': 22, 'dob': 1999, 'batch': 2021}\n",
            "{'name': 'Aditi', 'age': 22, 'dob': 1999}\n",
            "{'name': 'Aditi', 'age': 22, 'dob': 1999}\n"
          ]
        }
      ]
    },
    {
      "cell_type": "markdown",
      "metadata": {
        "id": "1iNg00clMSXS"
      },
      "source": [
        "Explicit Type Conversion: the data type is manually changed by the user as per their requirement.\n",
        "\n",
        "str() : Used to convert integer into a string.\n",
        "\n",
        "dict() : This function is used to convert a tuple of order (key,value) into a dictionary.\n",
        "\n",
        "tuple() : This function is used to convert to a tuple.\n",
        "\n",
        "list() : This function is used to convert any data type to a list type.\n",
        "*Lab Work:explore various type conversion loke string --> numbers, touples--> list, any other conversions *"
      ]
    },
    {
      "cell_type": "code",
      "metadata": {
        "colab": {
          "base_uri": "https://localhost:8080/"
        },
        "id": "weSjBoHtloE4",
        "outputId": "9c8593ec-7195-4c26-82ac-c0280b9fc30a"
      },
      "source": [
        "#type casting int to string\n",
        "val=34\n",
        "string=str(val)\n",
        "print(string)\n",
        "print(type(string))\n"
      ],
      "execution_count": 25,
      "outputs": [
        {
          "output_type": "stream",
          "name": "stdout",
          "text": [
            "34\n",
            "<class 'str'>\n"
          ]
        }
      ]
    },
    {
      "cell_type": "code",
      "metadata": {
        "colab": {
          "base_uri": "https://localhost:8080/"
        },
        "id": "evQnm0AYl0df",
        "outputId": "ba42a700-403f-481a-a100-7dcd369f53ce"
      },
      "source": [
        "#type casting float to string\n",
        "val=9.0\n",
        "ring=str(val)\n",
        "print(ring)\n",
        "print(type(ring))"
      ],
      "execution_count": 26,
      "outputs": [
        {
          "output_type": "stream",
          "name": "stdout",
          "text": [
            "9.0\n",
            "<class 'str'>\n"
          ]
        }
      ]
    },
    {
      "cell_type": "code",
      "metadata": {
        "colab": {
          "base_uri": "https://localhost:8080/"
        },
        "id": "apzRYakVl5z0",
        "outputId": "f8773c87-2fb6-40d1-a3cb-6cbb38522617"
      },
      "source": [
        "#type casting  string to int\n",
        "a=\"34\"\n",
        "stringtoint=int(a)\n",
        "print(stringtoint)\n",
        "print(type(stringtoint))"
      ],
      "execution_count": 27,
      "outputs": [
        {
          "output_type": "stream",
          "name": "stdout",
          "text": [
            "34\n",
            "<class 'int'>\n"
          ]
        }
      ]
    },
    {
      "cell_type": "code",
      "metadata": {
        "colab": {
          "base_uri": "https://localhost:8080/"
        },
        "id": "QdItprKMmAWO",
        "outputId": "9ada0c7a-69e8-4e41-f405-9b9aa96b3a7b"
      },
      "source": [
        "#type casting  string to float\n",
        "a=\"34.5\"\n",
        "stringtofloat=float(a)\n",
        "print(stringtofloat)\n",
        "print(type(stringtofloat))"
      ],
      "execution_count": 28,
      "outputs": [
        {
          "output_type": "stream",
          "name": "stdout",
          "text": [
            "34.5\n",
            "<class 'float'>\n"
          ]
        }
      ]
    },
    {
      "cell_type": "code",
      "metadata": {
        "colab": {
          "base_uri": "https://localhost:8080/"
        },
        "id": "8LRGD_jrSMSb",
        "outputId": "72334835-c9e3-4117-d703-a7e65fa37dca"
      },
      "source": [
        "#type casting  string to tuple\n",
        "a=\"hello hi\"\n",
        "stringtotup=tuple(a)\n",
        "print(stringtotup)\n",
        "print(type(stringtotup))"
      ],
      "execution_count": 3,
      "outputs": [
        {
          "output_type": "stream",
          "name": "stdout",
          "text": [
            "('h', 'e', 'l', 'l', 'o', ' ', 'h', 'i')\n",
            "<class 'tuple'>\n"
          ]
        }
      ]
    },
    {
      "cell_type": "code",
      "metadata": {
        "colab": {
          "base_uri": "https://localhost:8080/"
        },
        "id": "eYG53VojmJ68",
        "outputId": "b76e231d-fd19-4827-f946-8f975896d21c"
      },
      "source": [
        "#type casting tuple to string\n",
        "tuple=('h','e','l','l','o')\n",
        "ing=str(tuple)\n",
        "print(ing)\n",
        "print(type(ing))"
      ],
      "execution_count": 29,
      "outputs": [
        {
          "output_type": "stream",
          "name": "stdout",
          "text": [
            "('h', 'e', 'l', 'l', 'o')\n",
            "<class 'str'>\n"
          ]
        }
      ]
    },
    {
      "cell_type": "code",
      "metadata": {
        "colab": {
          "base_uri": "https://localhost:8080/"
        },
        "id": "MIs5L90wmLYJ",
        "outputId": "31434fbb-fe9b-4a12-8f5c-1c03789af48c"
      },
      "source": [
        "\n",
        "#tuple to dictionary\n",
        "tup=((1,'a'),(2,'b'),(3,'c'))\n",
        "tuptodict=dict(tup)\n",
        "print(tuptodict)\n",
        "print(type(tuptodict))"
      ],
      "execution_count": 30,
      "outputs": [
        {
          "output_type": "stream",
          "name": "stdout",
          "text": [
            "{1: 'a', 2: 'b', 3: 'c'}\n",
            "<class 'dict'>\n"
          ]
        }
      ]
    },
    {
      "cell_type": "code",
      "metadata": {
        "colab": {
          "base_uri": "https://localhost:8080/"
        },
        "id": "QaoVgs-4mU95",
        "outputId": "3f1f4668-8744-4c03-ad50-81aff2278ecd"
      },
      "source": [
        "#tuple to list\n",
        "aTuple = (123, 'xyz', 'zara', 'abc');\n",
        "aList = list(aTuple)\n",
        "print(aList)\n",
        "print(type(aList))"
      ],
      "execution_count": 31,
      "outputs": [
        {
          "output_type": "stream",
          "name": "stdout",
          "text": [
            "[123, 'xyz', 'zara', 'abc']\n",
            "<class 'list'>\n"
          ]
        }
      ]
    },
    {
      "cell_type": "code",
      "metadata": {
        "colab": {
          "base_uri": "https://localhost:8080/"
        },
        "id": "R5_k9n8Emceo",
        "outputId": "09f1437e-0cbd-4cfd-f500-9ccb94a2ca5b"
      },
      "source": [
        "#dictionary to list\n",
        "dictt={\"a\":1,\"b\":2,\"c\":3}\n",
        "dictt_view=dictt.items()\n",
        "dicttotup=list(dictt_view)\n",
        "print(dicttotup)\n",
        "print(type(dicttotup))"
      ],
      "execution_count": 32,
      "outputs": [
        {
          "output_type": "stream",
          "name": "stdout",
          "text": [
            "[('a', 1), ('b', 2), ('c', 3)]\n",
            "<class 'list'>\n"
          ]
        }
      ]
    },
    {
      "cell_type": "code",
      "metadata": {
        "colab": {
          "base_uri": "https://localhost:8080/"
        },
        "id": "gN6d35numhZ6",
        "outputId": "4431f6d1-1183-4f58-820d-9769fec93d80"
      },
      "source": [
        "#string to list\n",
        "sentence=\"Hello Aditi\"\n",
        "sent=sentence.split(\" \")\n",
        "print(sent)\n",
        "print(type(sent))"
      ],
      "execution_count": 36,
      "outputs": [
        {
          "output_type": "stream",
          "name": "stdout",
          "text": [
            "['Hello', 'Aditi']\n",
            "<class 'list'>\n"
          ]
        }
      ]
    },
    {
      "cell_type": "code",
      "metadata": {
        "colab": {
          "base_uri": "https://localhost:8080/"
        },
        "id": "2VLuNhxBmlwE",
        "outputId": "09a6bbbe-e099-43ff-cf43-ecfff03fd15b"
      },
      "source": [
        "#list to string\n",
        "list1 = [\"Hello\",\" My\", \" Name is \",\"Aditi\"]\n",
        "\n",
        "string=str(list1)\n",
        "print(string)\n",
        "print(type(string))\n",
        "\n",
        "string=\"\"\n",
        "for i in list1:\n",
        "  string+=i\n",
        "print(string)\n",
        "print(type(string))"
      ],
      "execution_count": 41,
      "outputs": [
        {
          "output_type": "stream",
          "name": "stdout",
          "text": [
            "['Hello', ' My', ' Name is ', 'Aditi']\n",
            "<class 'str'>\n",
            "Hello My Name is Aditi\n",
            "<class 'str'>\n"
          ]
        }
      ]
    },
    {
      "cell_type": "code",
      "metadata": {
        "colab": {
          "base_uri": "https://localhost:8080/"
        },
        "id": "r6PsVlcwpG_-",
        "outputId": "f1f12238-9683-40ea-f307-91f9bad70b9f"
      },
      "source": [
        "#list to tuple\n",
        "listx = [5, 10, 7, 4, 15, 3]\n",
        "print(listx)\n",
        "#use the tuple() function built-in Python, passing as parameter the list\n",
        "tuplex = tuple(listx)\n",
        "print(tuplex)"
      ],
      "execution_count": 4,
      "outputs": [
        {
          "output_type": "stream",
          "name": "stdout",
          "text": [
            "[5, 10, 7, 4, 15, 3]\n",
            "(5, 10, 7, 4, 15, 3)\n"
          ]
        }
      ]
    },
    {
      "cell_type": "code",
      "metadata": {
        "colab": {
          "base_uri": "https://localhost:8080/"
        },
        "id": "gNwx8xJ-pGpF",
        "outputId": "cbb840ad-f468-4fc7-a22c-c42e35a7c082"
      },
      "source": [
        "#list to dictionary\n",
        "list1 = [1, 2, 3, 4, 5, 6, 7, 8, 9, 10]  \n",
        "square_dict = {n: n*n for n in list1}  \n",
        "print(square_dict) "
      ],
      "execution_count": 5,
      "outputs": [
        {
          "output_type": "stream",
          "name": "stdout",
          "text": [
            "{1: 1, 2: 4, 3: 9, 4: 16, 5: 25, 6: 36, 7: 49, 8: 64, 9: 81, 10: 100}\n"
          ]
        }
      ]
    },
    {
      "cell_type": "code",
      "metadata": {
        "colab": {
          "base_uri": "https://localhost:8080/"
        },
        "id": "sWX83yLTreWU",
        "outputId": "5fd99e8a-dfd8-41c8-8b5e-6d80af5af4e6"
      },
      "source": [
        "#dictionary to tuple\n",
        "dict={}\n",
        "dict={\"a\":1,\"b\":2,\"c\":3}\n",
        "tupp=tuple(dict.items())\n",
        "print(tupp)\n",
        "print(type(tupp))"
      ],
      "execution_count": 8,
      "outputs": [
        {
          "output_type": "stream",
          "name": "stdout",
          "text": [
            "(('a', 1), ('b', 2), ('c', 3))\n",
            "<class 'tuple'>\n"
          ]
        }
      ]
    },
    {
      "cell_type": "code",
      "metadata": {
        "id": "adErikh1v9Vd"
      },
      "source": [
        ""
      ],
      "execution_count": null,
      "outputs": []
    }
  ]
}