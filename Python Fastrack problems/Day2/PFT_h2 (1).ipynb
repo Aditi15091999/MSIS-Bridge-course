{
  "nbformat": 4,
  "nbformat_minor": 0,
  "metadata": {
    "colab": {
      "name": "PFT_h2.ipynb",
      "provenance": [],
      "collapsed_sections": []
    },
    "kernelspec": {
      "name": "python3",
      "display_name": "Python 3"
    },
    "language_info": {
      "name": "python"
    }
  },
  "cells": [
    {
      "cell_type": "markdown",
      "metadata": {
        "id": "Dqhyp7X51ZwD"
      },
      "source": [
        "The main idea of this homework is to understand \n",
        "\n",
        "        - split function\n",
        "\n",
        "        - debug the program\n",
        "\n",
        "        - looping and conditional constructs "
      ]
    },
    {
      "cell_type": "code",
      "metadata": {
        "id": "Ldldl3Navhld",
        "colab": {
          "base_uri": "https://localhost:8080/"
        },
        "outputId": "3c2f625c-8549-45eb-c7da-f79e8a79e6c8"
      },
      "source": [
        "# get the string from the user. convert the string into list \n",
        "string=input(\"Enter a sentence\")\n",
        "text=string.split()\n",
        "print(text)\n",
        "\n",
        "lots_of_spaces = 'hello        how        are      you?'\n",
        "y=lots_of_spaces.split()\n",
        "print(y)\n",
        "\n",
        "lots_of_comma = 'hello,how,are,you?'\n",
        "z=lots_of_spaces.split()\n",
        "print(z)\n",
        "\n",
        "# Hint: split "
      ],
      "execution_count": 32,
      "outputs": [
        {
          "output_type": "stream",
          "name": "stdout",
          "text": [
            "Enter a sentencehi hello how are you?\n",
            "['hi', 'hello', 'how', 'are', 'you?']\n",
            "['hello', 'how', 'are', 'you?']\n",
            "['hello', 'how', 'are', 'you?']\n"
          ]
        }
      ]
    },
    {
      "cell_type": "code",
      "metadata": {
        "id": "jbIpgbVIsZzi",
        "colab": {
          "base_uri": "https://localhost:8080/"
        },
        "outputId": "862f9ab8-64bb-4bba-8b39-1284f4941ada"
      },
      "source": [
        "# Find the bug \n",
        "# calculate the 2 to the power of 5 \n",
        "\n",
        "2 ** 5 "
      ],
      "execution_count": 1,
      "outputs": [
        {
          "output_type": "execute_result",
          "data": {
            "text/plain": [
              "32"
            ]
          },
          "metadata": {},
          "execution_count": 1
        }
      ]
    },
    {
      "cell_type": "code",
      "metadata": {
        "id": "UPBccbyPwEG-",
        "colab": {
          "base_uri": "https://localhost:8080/"
        },
        "outputId": "4b00ab62-7a48-4240-c24d-b8eecebf37a1"
      },
      "source": [
        "# Develop Arithmetic calculator based on user choice the program should perform arithmetic operation (Any 7 opeations)\n",
        "a=10\n",
        "b=5\n",
        "print(\"1. add\\n 2.subtract\\n 3.multiply\\n 4.divide\\n 5.modulus\\n 6.power\\n 7.Floor division\\n 8.exit\")\n",
        "while True:\n",
        "  choice=input(\"Enter your choice\")\n",
        "  if choice==\"1\":\n",
        "    print(a+b)\n",
        "  elif choice==\"2\":\n",
        "    print(a-b)\n",
        "  elif choice==\"3\":\n",
        "    print(a*b)\n",
        "  elif choice==\"4\":\n",
        "    print(a/b)\n",
        "  elif choice==\"5\":\n",
        "    print(a%b)\n",
        "  elif choice==\"6\":\n",
        "    print(a**b)\n",
        "  elif choice==\"7\":\n",
        "    print(a//b)\n",
        "  else:\n",
        "    break\n"
      ],
      "execution_count": 55,
      "outputs": [
        {
          "name": "stdout",
          "output_type": "stream",
          "text": [
            "1. add\n",
            " 2.subtract\n",
            " 3.multiply\n",
            " 4.divide\n",
            " 5.modulus\n",
            " 6.power\n",
            " 7.Floor division\n",
            " 8.exit\n",
            "Enter your choice4\n",
            "2.0\n",
            "Enter your choice8\n"
          ]
        }
      ]
    },
    {
      "cell_type": "code",
      "metadata": {
        "id": "KNV7EA85wLmf",
        "colab": {
          "base_uri": "https://localhost:8080/"
        },
        "outputId": "b4fa5641-9fad-45b5-e8b7-7d081409caf8"
      },
      "source": [
        "# Develop String Calculator based on user choice the program should perform string operations (Any 5 operations )\n",
        "text=\"hI Hello! Nice to mEEt You.\"\n",
        "print(\"1.Capitalize\\n 2.Find\\n 3.Casefold\\n 4.Index\\n 5.Endswith\\n 6.Exit\")\n",
        "while True:\n",
        "  ch=input(\"Enter your choice\")\n",
        "  if ch==\"1\":\n",
        "    s=text.capitalize()\n",
        "    print(s)\n",
        "  elif ch==\"2\":\n",
        "    sen=text.find(\"mEET\")\n",
        "    print(sen)\n",
        "  elif ch==\"3\":\n",
        "    sent=text.casefold()\n",
        "    print(sent)\n",
        "  elif ch==\"4\":\n",
        "    senten=text.index(\"You\")\n",
        "    print(senten)\n",
        "  elif ch==\"5\":\n",
        "    sentence=text.endswith('!')\n",
        "    print(sentence)\n",
        "  else:\n",
        "    break\n"
      ],
      "execution_count": 68,
      "outputs": [
        {
          "name": "stdout",
          "output_type": "stream",
          "text": [
            "1.Capitalize\n",
            " 2.Find\n",
            " 3.Casefold\n",
            " 4.Index\n",
            " 5.Endswith\n",
            " 6.Exit\n",
            "Enter your choice3\n",
            "hi hello! nice to meet you.\n",
            "Enter your choice4\n",
            "23\n",
            "Enter your choice5\n",
            "False\n",
            "Enter your choice6\n"
          ]
        }
      ]
    },
    {
      "cell_type": "code",
      "metadata": {
        "id": "42aYwAukQdD5",
        "colab": {
          "base_uri": "https://localhost:8080/"
        },
        "outputId": "d7590717-ad94-409b-b511-c6171eb87e60"
      },
      "source": [
        "# Write a program to prompt the user for hours and rate per hour to compute gross pay.\n",
        "# Take into account that the university gives the employee 2.5 times the hourly rate for hours worked above 50 hours.\n",
        "hours=int(input(\"Enter the hours\"))\n",
        "rateperhour=float(input(\"Enter the rate per hour\"))\n",
        "\n",
        "if hours<50:\n",
        "  gpay=rateperhour*hours\n",
        "  print(gpay)\n",
        "\n",
        "else:\n",
        "  gpay=((hours-50)*(2.5*rateperhour)+(50*rateperhour))\n",
        "  print(gpay)\n"
      ],
      "execution_count": 19,
      "outputs": [
        {
          "output_type": "stream",
          "name": "stdout",
          "text": [
            "Enter the hours60\n",
            "Enter the rate per hour10\n",
            "750.0\n"
          ]
        }
      ]
    },
    {
      "cell_type": "code",
      "metadata": {
        "id": "Sl4ToIzWRDer",
        "colab": {
          "base_uri": "https://localhost:8080/"
        },
        "outputId": "0650c073-23c8-4470-ff5b-6db36ed68af7"
      },
      "source": [
        "# Create a list called hobbies. Create a for loop that prompts the user for a hobby 3 times, then appends each one to hobbies in the list\n",
        "# Hint 1 : List \n",
        "# Hint 2 : append \n",
        "hobbies=[]\n",
        "for i in range(3):\n",
        "  hobby=input(\"Enter an hobby \")\n",
        "  hobbies.append(hobby)\n",
        "print(hobbies)"
      ],
      "execution_count": 44,
      "outputs": [
        {
          "output_type": "stream",
          "name": "stdout",
          "text": [
            "Enter an hobby dance\n",
            "Enter an hobby sing\n",
            "Enter an hobby read\n",
            "['dance', 'sing', 'read']\n"
          ]
        }
      ]
    },
    {
      "cell_type": "code",
      "metadata": {
        "id": "RZCNWQIbV90j",
        "colab": {
          "base_uri": "https://localhost:8080/"
        },
        "outputId": "374c1eac-754b-4a67-9617-987fa3071856"
      },
      "source": [
        "# Write a Python program to check whether the given integer is a multiple of both 5 and 7 . \n",
        "val=int(input(\"Enter the num\"))\n",
        "if val%5==0 and val%7==0:\n",
        "  print(\"Is a multiple\")\n",
        "else:\n",
        "  print(\"Not a multiple\")\n"
      ],
      "execution_count": 34,
      "outputs": [
        {
          "output_type": "stream",
          "name": "stdout",
          "text": [
            "Enter the num35\n",
            "Is a multiple\n"
          ]
        }
      ]
    },
    {
      "cell_type": "code",
      "metadata": {
        "colab": {
          "base_uri": "https://localhost:8080/"
        },
        "id": "JoP4MCoIW3R1",
        "outputId": "4a06ff82-65c3-4dfc-fe52-46ff79cf20c3"
      },
      "source": [
        "# Find the error and correct the mistakes \n",
        "# the main idea of this code is to print the data from the dictionary (Data structure)\n",
        "\n",
        "phone_book = {\n",
        "'John' : [ '8592970000', 'john@xyzmail.com', 'Humpi' ],\n",
        "'Bob': [ '7994880000', 'bob@xyzmail.com','Manipal' ],\n",
        "'Tom' : [ '9749552647' , 'tom@xyzmail.com','Udupi' ]}\n",
        "\n",
        "for k,v in phone_book.items():\n",
        "  print(k, \":\", v)"
      ],
      "execution_count": 2,
      "outputs": [
        {
          "output_type": "stream",
          "name": "stdout",
          "text": [
            "John : ['8592970000', 'john@xyzmail.com', 'Humpi']\n",
            "Bob : ['7994880000', 'bob@xyzmail.com', 'Manipal']\n",
            "Tom : ['9749552647', 'tom@xyzmail.com', 'Udupi']\n"
          ]
        }
      ]
    },
    {
      "cell_type": "code",
      "metadata": {
        "colab": {
          "base_uri": "https://localhost:8080/"
        },
        "id": "28JOqamGb0p2",
        "outputId": "fd922d50-ad32-4923-d8b8-920ae1125568"
      },
      "source": [
        "# Find the bug \n",
        "# print all the numbers between 2 and 8 \n",
        "\n",
        "list = [x for x in range(10) if (x < 8) and (x > 2) ]\n",
        "print(list)"
      ],
      "execution_count": 9,
      "outputs": [
        {
          "output_type": "stream",
          "name": "stdout",
          "text": [
            "[3, 4, 5, 6, 7]\n"
          ]
        }
      ]
    },
    {
      "cell_type": "code",
      "metadata": {
        "id": "u0u4KWFaZsFd",
        "colab": {
          "base_uri": "https://localhost:8080/"
        },
        "outputId": "4f5b9c36-03b3-4c75-bb54-7bb591bfbac0"
      },
      "source": [
        "# find the bug\n",
        "# Suppose you are trying to compute a signal-to-noise ratio in\n",
        "# decibels. The formula is SNRdb = 10log10(Psignal /Pnoise).\n",
        "\n",
        "import math\n",
        "signal_power = 9\n",
        "noise_power = 10\n",
        "ratio = signal_power / noise_power\n",
        "print(ratio)\n",
        "decibels = 10 * math.log10(ratio)\n",
        "print(decibels)"
      ],
      "execution_count": 13,
      "outputs": [
        {
          "output_type": "stream",
          "name": "stdout",
          "text": [
            "0.9\n",
            "-0.4575749056067512\n"
          ]
        }
      ]
    },
    {
      "cell_type": "code",
      "metadata": {
        "id": "WwTWolGNwDNe",
        "colab": {
          "base_uri": "https://localhost:8080/"
        },
        "outputId": "a6322d61-0cfd-4d89-bc10-4ca4468ad257"
      },
      "source": [
        "# Check whether the number is present in the list or not \n",
        "list = [1, 2, 3, 4, 5 ]\n",
        "# in is used to check whether the member is present or not \n",
        "a=6\n",
        "if a in list :\n",
        "  print(\"Yes it is present \"+a) \n",
        "else: \n",
        "  print(\"no it is not\") "
      ],
      "execution_count": 15,
      "outputs": [
        {
          "output_type": "stream",
          "name": "stdout",
          "text": [
            "no it is not\n"
          ]
        }
      ]
    },
    {
      "cell_type": "code",
      "metadata": {
        "colab": {
          "base_uri": "https://localhost:8080/"
        },
        "id": "8-KvC26bwl46",
        "outputId": "19dfba62-4f99-4e99-ced4-9dbee4d31f3a"
      },
      "source": [
        "# check whether the number is same or not \n",
        "# use of identity opeartor is \n",
        "# find the bug \n",
        "\n",
        "a=10\n",
        "b=20 \n",
        "if ( a is not b ):\n",
        "  print (\" and b do not have same identity\")\n",
        "else:\n",
        "  print (\"a and b have same identity\")"
      ],
      "execution_count": 17,
      "outputs": [
        {
          "output_type": "stream",
          "name": "stdout",
          "text": [
            " and b do not have same identity\n"
          ]
        }
      ]
    },
    {
      "cell_type": "code",
      "metadata": {
        "id": "dnLaVxeuy_7S",
        "colab": {
          "base_uri": "https://localhost:8080/"
        },
        "outputId": "1cdaa622-3ea7-48e2-e1fe-b49c0bb37361"
      },
      "source": [
        "# Find the bug \n",
        "\n",
        "# Prints out 0,1,2,3,4 using while loop\n",
        "count = 0\n",
        "while count<5:\n",
        "    print(count)\n",
        "    count=count +1\n",
        "    if count >= 5:\n",
        "      break"
      ],
      "execution_count": 23,
      "outputs": [
        {
          "output_type": "stream",
          "name": "stdout",
          "text": [
            "0\n",
            "1\n",
            "2\n",
            "3\n",
            "4\n"
          ]
        }
      ]
    },
    {
      "cell_type": "code",
      "metadata": {
        "id": "wUZcnZ-xzQwQ",
        "colab": {
          "base_uri": "https://localhost:8080/"
        },
        "outputId": "8a09d12f-9226-416f-b23d-a14d8b0b02da"
      },
      "source": [
        "# Prints out only even numbers - 2,4,6,8,10 using for loop and continue\n",
        "# find the bug \n",
        "\n",
        "for x in range(1,11):\n",
        "    # Check if x is even\n",
        "    if not x % 2 == 0:\n",
        "        continue\n",
        "    print(x)"
      ],
      "execution_count": 26,
      "outputs": [
        {
          "output_type": "stream",
          "name": "stdout",
          "text": [
            "2\n",
            "4\n",
            "6\n",
            "8\n",
            "10\n"
          ]
        }
      ]
    },
    {
      "cell_type": "code",
      "metadata": {
        "id": "A4Ejnfy_zhg7",
        "colab": {
          "base_uri": "https://localhost:8080/"
        },
        "outputId": "5673a4ec-4e69-4961-b0b6-f81942a1da48"
      },
      "source": [
        "# Printing even and odd numbers using for loop and ternary operator\n",
        "# find the bug \n",
        "\n",
        "for x in range(1,10):\n",
        "    print(str(x) + \" is even number\") if(x % 2 == 0) else print(str(x) + \" is odd number\")"
      ],
      "execution_count": 29,
      "outputs": [
        {
          "output_type": "stream",
          "name": "stdout",
          "text": [
            "1 is odd number\n",
            "2 is even number\n",
            "3 is odd number\n",
            "4 is even number\n",
            "5 is odd number\n",
            "6 is even number\n",
            "7 is odd number\n",
            "8 is even number\n",
            "9 is odd number\n"
          ]
        }
      ]
    },
    {
      "cell_type": "code",
      "metadata": {
        "id": "eeyCj9U307qV"
      },
      "source": [
        "# Write a program which will find all such numbers which are divisible by 7 but are not a multiple of 5,\n",
        "#between 5 and 4570 (both included).\n",
        "for i in range(5,4571):\n",
        "  if i%7==0 and i%5!=0:\n",
        "    print(i)\n"
      ],
      "execution_count": null,
      "outputs": []
    },
    {
      "cell_type": "code",
      "metadata": {
        "id": "Sa6TY06d5RMH",
        "colab": {
          "base_uri": "https://localhost:8080/"
        },
        "outputId": "dd02a498-647d-436d-803a-3248715d2f74"
      },
      "source": [
        "# Write a program which accepts input to convert the temperature from one unit to another based on user choice \n",
        "# fahrenheit to celsius or celsius to fahrenheit until they say \"Quit\".\n",
        "\n",
        "# Hint: infinite loop\n",
        "val=float(input(\"Enter the temperature\"))\n",
        "while True:\n",
        "  print(\"1.Celsius to Farenheit\\n 2.Farenheit to Celsius\\n 3.Exit\")\n",
        "  ch=input(\"Enter your choice\")\n",
        "  if ch==\"1\":\n",
        "    fahr=val*1.8+32\n",
        "    print(fahr)\n",
        "  elif ch==\"2\":\n",
        "    cel=(val-32)/1.8\n",
        "    print(cel)\n",
        "  else:\n",
        "    break\n",
        "  "
      ],
      "execution_count": 61,
      "outputs": [
        {
          "name": "stdout",
          "output_type": "stream",
          "text": [
            "Enter the temperature45\n",
            "1.Celsius to Farenheit\n",
            " 2.Farenheit to Celsius\n",
            " 3.Exit\n",
            "Enter your choice1\n",
            "113.0\n",
            "1.Celsius to Farenheit\n",
            " 2.Farenheit to Celsius\n",
            " 3.Exit\n",
            "Enter your choice2\n",
            "7.222222222222222\n",
            "1.Celsius to Farenheit\n",
            " 2.Farenheit to Celsius\n",
            " 3.Exit\n",
            "Enter your choice3\n"
          ]
        }
      ]
    },
    {
      "cell_type": "markdown",
      "metadata": {
        "id": "IEBIAE6n2Fwh"
      },
      "source": [
        "Write a program that converts the temperature in Celsius to Fahrenheit. Have the program output two columns. In the first column, it prints out the temperature in Celsius, and the second in Fahrenheit. Have the data print out all integer values of Celsius from 0 to 100 in 3 degree increments. Have the data print out the Fahrenheit to 1 decimal\n",
        "\n",
        "Sample Output (in 4 degree increments for Celsius)![py08_fig1.png](data:image/png;base64,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)\n",
        "\n",
        "sample output"
      ]
    },
    {
      "cell_type": "code",
      "metadata": {
        "colab": {
          "base_uri": "https://localhost:8080/"
        },
        "id": "CoJ_jZ5LEE7U",
        "outputId": "dd96b80e-a501-4a8d-decc-def79fe0302c"
      },
      "source": [
        "print(\"Celsius\\t\\tFahrenheit\")\n",
        "for cel in range(0,101,3):\n",
        "  fahr=cel*1.8+32\n",
        "  print(\"%5d %16.1f\"%(cel,fahr))\n",
        "print(\"Done!\")"
      ],
      "execution_count": 33,
      "outputs": [
        {
          "output_type": "stream",
          "name": "stdout",
          "text": [
            "Celsius\t\tFahrenheit\n",
            "    0             32.0\n",
            "    3             37.4\n",
            "    6             42.8\n",
            "    9             48.2\n",
            "   12             53.6\n",
            "   15             59.0\n",
            "   18             64.4\n",
            "   21             69.8\n",
            "   24             75.2\n",
            "   27             80.6\n",
            "   30             86.0\n",
            "   33             91.4\n",
            "   36             96.8\n",
            "   39            102.2\n",
            "   42            107.6\n",
            "   45            113.0\n",
            "   48            118.4\n",
            "   51            123.8\n",
            "   54            129.2\n",
            "   57            134.6\n",
            "   60            140.0\n",
            "   63            145.4\n",
            "   66            150.8\n",
            "   69            156.2\n",
            "   72            161.6\n",
            "   75            167.0\n",
            "   78            172.4\n",
            "   81            177.8\n",
            "   84            183.2\n",
            "   87            188.6\n",
            "   90            194.0\n",
            "   93            199.4\n",
            "   96            204.8\n",
            "   99            210.2\n",
            "Done!\n"
          ]
        }
      ]
    }
  ]
}